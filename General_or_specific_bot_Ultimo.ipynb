{
  "nbformat": 4,
  "nbformat_minor": 0,
  "metadata": {
    "colab": {
      "provenance": [],
      "include_colab_link": true
    },
    "kernelspec": {
      "name": "python3",
      "display_name": "Python 3"
    },
    "language_info": {
      "name": "python"
    }
  },
  "cells": [
    {
      "cell_type": "markdown",
      "metadata": {
        "id": "view-in-github",
        "colab_type": "text"
      },
      "source": [
        "<a href=\"https://colab.research.google.com/github/wwww3341/-Projects/blob/main/General_or_specific_bot_Ultimo.ipynb\" target=\"_parent\"><img src=\"https://colab.research.google.com/assets/colab-badge.svg\" alt=\"Open In Colab\"/></a>"
      ]
    },
    {
      "cell_type": "markdown",
      "source": [
        "# What is Hugging Face?\n",
        "We can define Hugging Face as a technology company dedicated to the development of tools and platforms for natural language processing (NLP) based on artificial intelligence. Their focus is on creating state-of-the-art deep learning models for tasks such as natural language understanding, natural language generation, sentiment analysis, or machine translation, among others.\n",
        "\n",
        "Additionally, Hugging Face has created an open-source platform called Transformers, which allows developers worldwide to access and use state-of-the-art pre-trained NLP models. This Hugging Face platform has become a fundamental tool for the development of NLP-based applications and has been embraced by a wide community of developers and companies.\n",
        "\n",
        "In summary, when talking about what Hugging Face is, it's important to highlight that it is a company leading the artificial intelligence revolution in natural language processing. Moreover, it is making it more accessible and easier for developers and companies worldwide to leverage the latest NLP technologies."
      ],
      "metadata": {
        "id": "H_6TRt36aZTm"
      }
    },
    {
      "cell_type": "markdown",
      "source": [
        "# How does the hugchat model work, and what role does the transformer play in generating responses to questions?\n",
        "\n",
        "The hugchat model utilizes a transformer to generate responses to questions. The transformer takes the question and a dataset of question-answer pairs as input. It uses attention mechanisms to identify relevant parts of the question and the dataset. Subsequently, the transformer generates a response that is pertinent to the question.\n",
        "\n",
        "Transformers have proven to be highly effective for various NLP tasks, particularly those requiring an understanding of context, such as machine translation, question answering, and text generation.\n",
        "\n",
        "In the case of hugchat, transformers enable the model to generate responses that are both relevant to the question and consider the context of the conversation."
      ],
      "metadata": {
        "id": "H8jLooZK7Bsg"
      }
    },
    {
      "cell_type": "markdown",
      "source": [
        "# Sign up here!!!\n",
        "https://huggingface.co/ then save your password and email (that is, your credentials), you will use it later"
      ],
      "metadata": {
        "id": "uPfI1QIsV5A0"
      }
    },
    {
      "cell_type": "markdown",
      "source": [
        "Step 1: Hugchat Package Installation"
      ],
      "metadata": {
        "id": "Lh4OTxWn6LL-"
      }
    },
    {
      "cell_type": "code",
      "source": [
        "# We use the character `!` to indicate that this is a terminal command.\n",
        "# In this case, we are using `pip`, the Python package manager.\n",
        "\n",
        "# The following `pip install` command is used to install Python packages.\n",
        "# In this context, we are installing the package named `hugchat`.\n",
        "\n",
        "# Important! Make sure you have an active internet connection to download and install the package.\n",
        "\n",
        "!pip install hugchat  # Command to install the hugchat package"
      ],
      "metadata": {
        "colab": {
          "base_uri": "https://localhost:8080/"
        },
        "id": "IyamQJS90qlr",
        "outputId": "6d0b1a95-57c6-4242-c7f8-1c6adfb05d52"
      },
      "execution_count": null,
      "outputs": [
        {
          "output_type": "stream",
          "name": "stdout",
          "text": [
            "Requirement already satisfied: hugchat in /usr/local/lib/python3.10/dist-packages (0.3.10)\n",
            "Requirement already satisfied: requests in /usr/local/lib/python3.10/dist-packages (from hugchat) (2.31.0)\n",
            "Requirement already satisfied: requests-toolbelt in /usr/local/lib/python3.10/dist-packages (from hugchat) (1.0.0)\n",
            "Requirement already satisfied: charset-normalizer<4,>=2 in /usr/local/lib/python3.10/dist-packages (from requests->hugchat) (3.3.2)\n",
            "Requirement already satisfied: idna<4,>=2.5 in /usr/local/lib/python3.10/dist-packages (from requests->hugchat) (3.6)\n",
            "Requirement already satisfied: urllib3<3,>=1.21.1 in /usr/local/lib/python3.10/dist-packages (from requests->hugchat) (2.0.7)\n",
            "Requirement already satisfied: certifi>=2017.4.17 in /usr/local/lib/python3.10/dist-packages (from requests->hugchat) (2023.11.17)\n"
          ]
        }
      ]
    },
    {
      "cell_type": "markdown",
      "source": [
        "Step 2: Farewell Database Download\n"
      ],
      "metadata": {
        "id": "vhG7sHfAECzU"
      }
    },
    {
      "cell_type": "code",
      "source": [
        "# In this line of code, we are downloading a specific database named 'mensajes_despedida.csv'.\n",
        "\n",
        "# We use the `!wget` command to perform the download. This command is used in the terminal and allows fetching files\n",
        "# directly from the web. The `-O` option is used to specify the output file name, in this case, 'mensajes_despedida.csv'.\n",
        "\n",
        "# The URL provided after the `-O` option is the location of the file on the web. In this case, the database is\n",
        "# hosted on the GitHub repository with the following URL:\n",
        "# https://raw.githubusercontent.com/wwww3341/Base-de-Datos/main/mensajes_despedida.csv\n",
        "\n",
        "# Executing this line will download the 'mensajes_despedida.csv' file from the web and save it in the location\n",
        "# where this code is being executed.\n",
        "\n",
        "# Make sure you have an active internet connection for the download to be successful.\n",
        "\n",
        "!wget -O farewell_list.xlsx https://github.com/wwww3341/Base-de-Datos/raw/main/farewell_list.xlsx\n"
      ],
      "metadata": {
        "id": "ELtfwvykcTWN"
      },
      "execution_count": null,
      "outputs": []
    },
    {
      "cell_type": "markdown",
      "source": [
        "Step 3: Import and Preparation of Farewell Data"
      ],
      "metadata": {
        "id": "MU40n9bT529R"
      }
    },
    {
      "cell_type": "code",
      "source": [
        "# In this code section, we are importing essential libraries for working with data in Python.\n",
        "# `pandas` is a data analysis library that provides flexible data structures and tools for manipulating and analyzing data.\n",
        "# `numpy` is a library that offers support for arrays and matrices, useful for performing efficient numerical operations.\n",
        "\n",
        "import pandas as pd  # We import pandas and rename it as pd for easier use in the code.\n",
        "import numpy as np   # We import numpy and rename it as np for easier use in the code.\n",
        "\n",
        "# Next, we are reading the CSV file we downloaded earlier ('mensajes_despedida.csv') using pandas.\n",
        "# The resulting DataFrame, denoted as `df`, will contain the information from the database.\n",
        "\n",
        "df = pd.read_excel('/content/farewell_list.xlsx', index_col = 0)  # Path to the 'mensajes_despedida.csv' file\n",
        "\n",
        "# Then, we create an empty list called `farewell_messages_list` to store the farewell messages from our DataFrame.\n",
        "farewell_messages_list = []\n",
        "\n",
        "# Through a for loop, we iterate over the 'farewell_messages' column of our DataFrame (`df`) and add each message\n",
        "# to the `farewell_messages_list`.\n",
        "\n",
        "for i in df['farewell_list']:\n",
        "  farewell_messages_list.append(i.lower())"
      ],
      "metadata": {
        "id": "y0jfQKJE39IL"
      },
      "execution_count": null,
      "outputs": []
    },
    {
      "cell_type": "markdown",
      "source": [
        "Step 4: Import Necessary Modules"
      ],
      "metadata": {
        "id": "Km_Cp4hTo1VY"
      }
    },
    {
      "cell_type": "code",
      "source": [
        "# In this part of the code, we are importing two specific modules from the `hugchat` package.\n",
        "# The `hugchat` package provides tools for working with chatbots using the Hugging Face platform.\n",
        "\n",
        "# We import the `hugchat` module, which contains the `ChatBot` class. This class is used to create and manage a chatbot.\n",
        "# Chatbots are programs designed to interact with users through messages, simulating a conversation.\n",
        "\n",
        "from hugchat import hugchat  # The `hugchat` package provides the `ChatBot` class, used for creating a chatbot.\n",
        "\n",
        "# We also import the `Login` module from the `hugchat` package. This module provides the `Login` class,\n",
        "# which is used to handle the login process on the Hugging Face platform.\n",
        "\n",
        "from hugchat.login import Login  # We import the `Login` class from the `login` module in the `hugchat` package.\n"
      ],
      "metadata": {
        "id": "p8ClhCe43I9J"
      },
      "execution_count": null,
      "outputs": []
    },
    {
      "cell_type": "markdown",
      "source": [
        "Step 5: Enter Login Credentials"
      ],
      "metadata": {
        "id": "GdId7FrHo7QI"
      }
    },
    {
      "cell_type": "code",
      "source": [
        "# In this code block, we are providing the necessary login credentials to access the Hugging Face platform.\n",
        "# The Hugging Face platform may require the user's email and password for authentication and authorization.\n",
        "\n",
        "# Enter your own credentials below:\n",
        "email = 'your_email@example.com'  # Replace with your own email.\n",
        "password = 'your_password'        # Replace with your own password.\n",
        "\n",
        "# Important! Make sure to use your own credentials (email and password) to access the platform.\n",
        "# The security of your credentials is crucial to protect your Hugging Face account and ensure secure access to available resources."
      ],
      "metadata": {
        "id": "mJnhw7Ano8O3"
      },
      "execution_count": null,
      "outputs": []
    },
    {
      "cell_type": "markdown",
      "source": [
        "Step 6: Create an Instance of the Login Class"
      ],
      "metadata": {
        "id": "ENBAQ7K5pOQw"
      }
    },
    {
      "cell_type": "code",
      "source": [
        "# With the provided login credentials above, we are now creating an instance of the `Login` class.\n",
        "# The `Login` class is part of the `hugchat` package and is used to handle the authentication process on the Hugging Face platform.\n",
        "\n",
        "# We create an instance of the `Login` class using the entered credentials.\n",
        "# The variable `sign` is used to represent this instance and manage operations related to the login process.\n",
        "\n",
        "sign = Login(email, password)"
      ],
      "metadata": {
        "id": "YcWLqhMkpOo_"
      },
      "execution_count": null,
      "outputs": []
    },
    {
      "cell_type": "markdown",
      "source": [
        "Step 7: Log In and Obtain Cookies"
      ],
      "metadata": {
        "id": "qHtKD_8MpZYs"
      }
    },
    {
      "cell_type": "code",
      "source": [
        "# Now that we have the instance of the `Login` class (stored in the variable `sign`), we proceed to log in.\n",
        "# Logging in authenticates the user on the Hugging Face platform, and the cookies associated with the session are obtained.\n",
        "\n",
        "# We log in using the `Login` instance and store the resulting cookies in the variable `cookies`.\n",
        "cookies = sign.login()"
      ],
      "metadata": {
        "id": "U7YXzCbKpaDF"
      },
      "execution_count": null,
      "outputs": []
    },
    {
      "cell_type": "markdown",
      "source": [
        "Paso 8: Definir la función para iniciar una conversación"
      ],
      "metadata": {
        "id": "5AmmvAkfptBA"
      }
    },
    {
      "cell_type": "code",
      "source": [
        "# In this code block, we are defining a function called `start_conversation`.\n",
        "# This function aims to initiate a conversation with the user using a chatbot.\n",
        "\n",
        "def start_conversation():\n",
        "    # Create an instance of ChatBot with authentication cookies\n",
        "    chatbot = hugchat.ChatBot(cookies=cookies.get_dict())\n",
        "\n",
        "    # Determine the role of the bot and introduce itself\n",
        "    response_1 = chatbot.query('You are an Assistant that answers questions about operating systems. Remember to start with a short greeting!')\n",
        "\n",
        "    # Convert the response to a string and add line breaks for a more readable presentation\n",
        "    response_1_str = str(response_1)\n",
        "    response_1_with_line_breaks = response_1_str.replace(\". \", \".\\n\")\n",
        "\n",
        "    # Print the chatbot's response with line breaks\n",
        "    print(\"ChatBot:\" + response_1_with_line_breaks)\n",
        "\n",
        "    # Start a conversation loop\n",
        "    while True:\n",
        "        # Read the user's message from the standard input\n",
        "        user_message = input(\"User: \")\n",
        "\n",
        "        # Get the chatbot's response\n",
        "        response_2 = chatbot.query(user_message)\n",
        "\n",
        "        # Exit the loop if the user provides a farewell message\n",
        "        if user_message.lower() in farewell_messages_list:\n",
        "            print(\"ChatBot: Goodbye, hope to see you again! :D\")\n",
        "            break\n",
        "\n",
        "        # Convert the response to a string and add line breaks for a more readable presentation\n",
        "        response_2_str = str(response_2)\n",
        "        response_2_with_line_breaks = response_2_str.replace(\". \", \".\\n\")\n",
        "\n",
        "        # Print the chatbot's response with line breaks\n",
        "        print(\"ChatBot:\", response_2_with_line_breaks)"
      ],
      "metadata": {
        "id": "xk9lBoQuptbv"
      },
      "execution_count": null,
      "outputs": []
    },
    {
      "cell_type": "markdown",
      "source": [
        "Step 9: Call the Function to Start the Conversation"
      ],
      "metadata": {
        "id": "mZj7R9yCp8NI"
      }
    },
    {
      "cell_type": "code",
      "source": [
        "# Call the function to start the conversation\n",
        "start_conversation()"
      ],
      "metadata": {
        "id": "Bqv1cnaQp8s3"
      },
      "execution_count": null,
      "outputs": []
    },
    {
      "cell_type": "markdown",
      "source": [
        "# HERE IS THE COMPLETE BOT CODE\n"
      ],
      "metadata": {
        "id": "CCIOMNlVqNNG"
      }
    },
    {
      "cell_type": "code",
      "source": [
        "# Module Import:\n",
        "# Two modules from the hugchat package are imported. The first provides the ChatBot class for creating chatbots,\n",
        "# and the second provides the Login class for managing login on Hugging Face.\n",
        "from hugchat import hugchat\n",
        "from hugchat.login import Login\n",
        "\n",
        "# Enter Credentials:\n",
        "# The user is prompted to enter their login credentials (email and password).\n",
        "# It's important to remember that secure handling of these credentials is essential and should not be shared publicly.\n",
        "email = 'your_email@example.com'  # Replace with your own email.\n",
        "password = 'your_password'         # Replace with your own password.\n",
        "\n",
        "# Create an Instance of the Login Class:\n",
        "# Uses the entered credentials to create an instance of the Login class from the hugchat package.\n",
        "sign = Login(email, password)\n",
        "\n",
        "# Log In and Obtain Cookies:\n",
        "# Logs in to Hugging Face using the Login instance and obtains the cookies associated with the session.\n",
        "# Cookies are essential to maintain authentication during ongoing interaction with the platform.\n",
        "cookies = sign.login()\n",
        "\n",
        "# Define Function to Start Conversation:\n",
        "# Defines a function named start_conversation that initiates a conversation with the user using a chatbot.\n",
        "# This function creates an instance of the ChatBot class using the authentication cookies.\n",
        "def start_conversation():\n",
        "    # Create an instance of ChatBot with authentication cookies\n",
        "    chatbot = hugchat.ChatBot(cookies=cookies.get_dict())\n",
        "\n",
        "    # Determine the role of the bot and introduce itself\n",
        "    response_1 = chatbot.query('You are an Assistant that answers questions about operating systems. Remember to start with a short greeting!')\n",
        "\n",
        "    # Convert the response to a string and add line breaks for a more readable presentation\n",
        "    response_1_str = str(response_1)\n",
        "    response_1_with_line_breaks = response_1_str.replace(\". \", \".\\n\")\n",
        "\n",
        "    # Print the chatbot's response with line breaks\n",
        "    print(\"ChatBot:\" + response_1_with_line_breaks)\n",
        "\n",
        "    # Start a conversation loop\n",
        "    while True:\n",
        "        # Read the user's message from the standard input\n",
        "        user_message = input(\"User: \")\n",
        "\n",
        "        # Get the chatbot's response\n",
        "        response_2 = chatbot.query(user_message)\n",
        "\n",
        "        # Exit the loop if the user provides a farewell message\n",
        "        if user_message.lower() in farewell_messages_list:\n",
        "            print(\"ChatBot: Goodbye, hope to see you again! :D\")\n",
        "            break\n",
        "\n",
        "        # Convert the response to a string and add line breaks for a more readable presentation\n",
        "        response_2_str = str(response_2)\n",
        "        response_2_with_line_breaks = response_2_str.replace(\". \", \".\\n\")\n",
        "\n",
        "        # Print the chatbot's response with line breaks\n",
        "        print(\"ChatBot:\", response_2_with_line_breaks)\n",
        "\n",
        "# Call the Function to Start the Conversation:\n",
        "# Finally, call the start_conversation() function, initiating the program's execution\n",
        "# and allowing the user to interact with the chatbot.\n",
        "start_conversation()"
      ],
      "metadata": {
        "id": "9UjISe31qSeM",
        "outputId": "f47f2212-2ce6-4067-8bcd-b50455a0e763",
        "colab": {
          "base_uri": "https://localhost:8080/"
        }
      },
      "execution_count": null,
      "outputs": [
        {
          "output_type": "stream",
          "name": "stdout",
          "text": [
            "ChatBot: Hola! Siempre estoy listo para ayudarte a resolver tus preguntas relacionadas con los sistemas operativos.\n",
            "¿En qué puedo asistirte hoy? :smile:\n"
          ]
        }
      ]
    }
  ]
}